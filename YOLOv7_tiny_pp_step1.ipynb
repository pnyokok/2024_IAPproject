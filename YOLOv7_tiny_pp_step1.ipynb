{
  "nbformat": 4,
  "nbformat_minor": 0,
  "metadata": {
    "colab": {
      "provenance": [],
      "collapsed_sections": [
        "5dpGAiSQ2CGd",
        "0uZgxdfWGNfI",
        "Pl5uo4FYHnVN"
      ],
      "gpuType": "T4",
      "authorship_tag": "ABX9TyPWnWp+3DWFKf9ye3v2hURB",
      "include_colab_link": true
    },
    "kernelspec": {
      "name": "python3",
      "display_name": "Python 3"
    },
    "language_info": {
      "name": "python"
    },
    "accelerator": "GPU"
  },
  "cells": [
    {
      "cell_type": "markdown",
      "metadata": {
        "id": "view-in-github",
        "colab_type": "text"
      },
      "source": [
        "<a href=\"https://colab.research.google.com/github/pnyokok/2024_IAPproject/blob/main/YOLOv7_tiny_pp_step1.ipynb\" target=\"_parent\"><img src=\"https://colab.research.google.com/assets/colab-badge.svg\" alt=\"Open In Colab\"/></a>"
      ]
    },
    {
      "cell_type": "markdown",
      "source": [
        "# Load Files"
      ],
      "metadata": {
        "id": "pZlFfjrhGFcC"
      }
    },
    {
      "cell_type": "code",
      "execution_count": null,
      "metadata": {
        "id": "Fh5P5wrSsM1T"
      },
      "outputs": [],
      "source": [
        "from google.colab import drive\n",
        "drive.mount('/content/drive')\n"
      ]
    },
    {
      "cell_type": "code",
      "source": [
        "# Google Drive datasets.zip\n",
        "!cp /content/drive/MyDrive/data/datasets.zip .\n",
        "\n",
        "!unzip datasets.zip\n"
      ],
      "metadata": {
        "id": "jf69aMYMsWy6"
      },
      "execution_count": null,
      "outputs": []
    },
    {
      "cell_type": "code",
      "source": [
        "# YOLOv7\n",
        "!git clone https://github.com/WongKinYiu/yolov7.git\n",
        "%cd yolov7\n",
        "!pip install -r requirements.txt\n"
      ],
      "metadata": {
        "id": "sVwhzUPvscnU"
      },
      "execution_count": null,
      "outputs": []
    },
    {
      "cell_type": "code",
      "source": [
        "import os\n",
        "\n",
        "# 현재 디렉토리 이동\n",
        "%cd /content/yolov7\n",
        "\n",
        "# yolov7.pt 파일 다운로드\n",
        "!wget https://github.com/WongKinYiu/yolov7/releases/download/v0.1/yolov7-tiny.pt"
      ],
      "metadata": {
        "id": "8FmRCPVYHUqw"
      },
      "execution_count": null,
      "outputs": []
    },
    {
      "cell_type": "markdown",
      "source": [
        "# Set GPU"
      ],
      "metadata": {
        "id": "5dpGAiSQ2CGd"
      }
    },
    {
      "cell_type": "code",
      "source": [
        "import torch\n",
        "\n",
        "# GPU 활성화 확인\n",
        "print(\"CUDA available: \", torch.cuda.is_available())\n",
        "print(\"CUDA device count: \", torch.cuda.device_count())\n",
        "print(\"CUDA current device: \", torch.cuda.current_device())\n",
        "print(\"CUDA device name: \", torch.cuda.get_device_name(torch.cuda.current_device()))\n"
      ],
      "metadata": {
        "colab": {
          "base_uri": "https://localhost:8080/"
        },
        "id": "D6JNBw_ZuXSw",
        "outputId": "ce488239-f96b-4824-97f2-b9612cbd2d2a"
      },
      "execution_count": null,
      "outputs": [
        {
          "output_type": "stream",
          "name": "stdout",
          "text": [
            "CUDA available:  True\n",
            "CUDA device count:  1\n",
            "CUDA current device:  0\n",
            "CUDA device name:  Tesla T4\n"
          ]
        }
      ]
    },
    {
      "cell_type": "markdown",
      "source": [
        "# Training Yolov-tiny"
      ],
      "metadata": {
        "id": "0uZgxdfWGNfI"
      }
    },
    {
      "cell_type": "code",
      "source": [
        "# YOLOv7 디렉토리로 이동\n",
        "%cd /content/yolov7\n",
        "\n",
        "# CPU에서 훈련 실행\n",
        "!python train.py --img 416 --batch 8 --epochs 50 --data datasets/data.yaml --cfg cfg/training/yolov7-tiny.yaml --weights yolov7-tiny.pt --device 0"
      ],
      "metadata": {
        "id": "vR6py7XrGQCw"
      },
      "execution_count": null,
      "outputs": []
    },
    {
      "cell_type": "markdown",
      "source": [
        "# Test"
      ],
      "metadata": {
        "id": "Pl5uo4FYHnVN"
      }
    },
    {
      "cell_type": "code",
      "source": [
        "!python test.py --weights runs/train/exp5/weights/best.pt --data datasets/data.yaml --img-size 640 --batch-size 16 --device 0"
      ],
      "metadata": {
        "id": "vyPIlSmX0TKw"
      },
      "execution_count": null,
      "outputs": []
    },
    {
      "cell_type": "code",
      "source": [
        "import os\n",
        "\n",
        "# 압축할 디렉토리와 압축 파일 이름 설정\n",
        "dir_to_zip = \"/content/yolov7/runs\"\n",
        "zip_file = \"/content/runs.zip\"\n",
        "\n",
        "# zip 명령을 사용하여 디렉토리 압축\n",
        "os.system(f\"zip -r {zip_file} {dir_to_zip}\")"
      ],
      "metadata": {
        "id": "hlGAljDK4afV"
      },
      "execution_count": null,
      "outputs": []
    },
    {
      "cell_type": "code",
      "source": [
        "from google.colab import drive\n",
        "\n",
        "# 구글 드라이브 마운트\n",
        "drive.mount('/content/drive')\n",
        "\n",
        "# 파일 복사\n",
        "!cp /content/runs.zip /content/drive/MyDrive/\n"
      ],
      "metadata": {
        "id": "M6Vul14RH23b"
      },
      "execution_count": null,
      "outputs": []
    }
  ]
}